{
 "cells": [
  {
   "cell_type": "markdown",
   "metadata": {},
   "source": [
    "# Facebook Message Analyzer"
   ]
  },
  {
   "cell_type": "markdown",
   "metadata": {},
   "source": [
    "<b> Current Features For a Given Chat: </b>\n",
    "<ul> \n",
    "    <li> Number of Messages Sent </li> \n",
    "    <li> Messages Sent Over Time </li> \n",
    "    <li> Average Word Count </li>\n",
    "</ul>"
   ]
  },
  {
   "cell_type": "code",
   "execution_count": 5,
   "metadata": {},
   "outputs": [],
   "source": [
    "import os\n",
    "import json\n",
    "import numpy as np\n",
    "import pylab as pl\n",
    "import datetime\n",
    "\n",
    "CURRENT_DIRECTORY = os.getcwd()\n",
    "NUMBER_TO_ANALYZE = 5000\n",
    "MESSAGE_THRESHOLD = 10\n",
    "MESSAGE_BOUND = 10000000"
   ]
  },
  {
   "cell_type": "code",
   "execution_count": 6,
   "metadata": {},
   "outputs": [],
   "source": [
    "def get_json_data(chat):\n",
    "    try:\n",
    "        json_location = CURRENT_DIRECTORY + \"/messages/\" + chat + \"/message_1.json\"\n",
    "        \n",
    "        with open(json_location) as json_file:\n",
    "            json_data = json.load(json_file)\n",
    "            return json_data\n",
    "    except IOError:\n",
    "        pass # some things the directory aren't messages (DS_Store, stickers_used, etc.)"
   ]
  },
  {
   "cell_type": "code",
   "execution_count": 7,
   "metadata": {},
   "outputs": [],
   "source": [
    "chats = os.listdir(CURRENT_DIRECTORY + \"/messages/\")[:NUMBER_TO_ANALYZE]\n",
    "sorted_chats = []\n",
    "final_data_messages = {}\n",
    "final_data_times = {}\n",
    "final_data_words = {}\n",
    "invalid_message_count = 0"
   ]
  },
  {
   "cell_type": "code",
   "execution_count": 8,
   "metadata": {},
   "outputs": [
    {
     "name": "stdout",
     "output_type": "stream",
     "text": [
      "Analyzing 2 chats...\n",
      "hugozhang_19wpl6oggg\n",
      "veveyzhan_3f7gihqw4q\n",
      "Finished processing chats...\n"
     ]
    }
   ],
   "source": [
    "print('Analyzing ' + str(min(NUMBER_TO_ANALYZE, len(chats))) + ' chats...')\n",
    "\n",
    "for chat in chats:\n",
    "    url = chat + '/message_1.json'\n",
    "    json_data = get_json_data(chat)\n",
    "    print(chat)\n",
    "    if json_data != None:\n",
    "        messages = json_data[\"messages\"]\n",
    "        if len(messages) >= MESSAGE_THRESHOLD and len(messages) <= MESSAGE_BOUND:\n",
    "            sorted_chats.append((len(messages), chat, messages))\n",
    "\n",
    "sorted_chats.sort(reverse=True)\n",
    "\n",
    "\n",
    "print('Finished processing chats...')"
   ]
  },
  {
   "cell_type": "code",
   "execution_count": 9,
   "metadata": {},
   "outputs": [
    {
     "name": "stdout",
     "output_type": "stream",
     "text": [
      "0 - 109389 messages - hugozhang_19wpl6oggg\n",
      "1 - 37490 messages - veveyzhan_3f7gihqw4q\n",
      "Found 1300 invalid messages...\n",
      "Found 2 chats with 10 messages or more\n"
     ]
    }
   ],
   "source": [
    "for i, (messages, chat, messages) in enumerate(sorted_chats):\n",
    "    number_messages = {}\n",
    "    person_to_times = {}\n",
    "    number_words = {}\n",
    "\n",
    "    print(str(i) + \" - \" + str(len(messages)) + \" messages - \" + str(chat))\n",
    "\n",
    "    for message in messages:\n",
    "        try:\n",
    "            name = message[\"sender_name\"]\n",
    "            time = message[\"timestamp_ms\"]\n",
    "            message_content = message[\"content\"]\n",
    "\n",
    "            number_messages[name] = number_messages.get(name, 0)\n",
    "            number_messages[name] += 1\n",
    "\n",
    "            person_to_times[name] = person_to_times.get(name, [])\n",
    "            person_to_times[name].append(datetime.datetime.fromtimestamp(time/1000.0))\n",
    "\n",
    "            number_words[name] = number_words.get(name, [])\n",
    "            number_words[name].append(len(message_content.split()))\n",
    "        except KeyError:\n",
    "            # happens for special cases like users who deactivated, unfriended, blocked\n",
    "            invalid_message_count += 1\n",
    "\n",
    "    final_data_messages[i] = number_messages\n",
    "    final_data_times[i] = person_to_times\n",
    "    final_data_words[i] = number_words\n",
    "\n",
    "print('Found ' + str(invalid_message_count) + ' invalid messages...')\n",
    "print('Found ' + str(len(sorted_chats)) + ' chats with ' + str(MESSAGE_THRESHOLD) + ' messages or more')"
   ]
  },
  {
   "cell_type": "code",
   "execution_count": 14,
   "metadata": {},
   "outputs": [],
   "source": [
    "def plot_num_messages(chat_number):\n",
    "    plotted_data = final_data_messages[chat_number]\n",
    "    X = np.arange(len(plotted_data))\n",
    "    pl.bar(X, list(plotted_data.values()), align='center', width=0.5, color = 'r', bottom = 0.3)\n",
    "    pl.xticks(X, plotted_data.keys(), rotation = 90)\n",
    "    pl.title('Number of Messages Sent')\n",
    "    pl.tight_layout()\n",
    "    pl.show()\n",
    "    \n",
    "def plot_histogram_time(chat_number):\n",
    "    person_to_times = final_data_times[chat_number]\n",
    "    print(\"test\")\n",
    "    pl.xlabel('Time')\n",
    "    pl.ylabel('Number of Messages')\n",
    "    pl.title('# of Messages Over Time')\n",
    "    colors = ['b', 'r', 'c', 'm', 'y', 'k', 'w', 'g']\n",
    "    for i , person in enumerate(person_to_times):\n",
    "        print(person)\n",
    "        plotted_data = person_to_times[person]\n",
    "        pl.hist(plotted_data, 100, alpha=0.3, label=person, facecolor=colors[i % len(colors)])\n",
    "    pl.legend()\n",
    "    pl.xticks(rotation=90)\n",
    "    pl.tight_layout()\n",
    "    pl.show()\n",
    "\n",
    "def plot_histogram_words(chat_number):\n",
    "    temp = {}\n",
    "    for person in final_data_words[chat_number]:\n",
    "        print(person)\n",
    "        temp[person] = np.average(final_data_words[chat_number][person])\n",
    "    plotted_data = temp\n",
    "    X = np.arange(len(plotted_data))\n",
    "    pl.bar(X, list(plotted_data.values()), align='center', width=0.5, color = 'r', bottom = 0.3)\n",
    "    pl.xticks(X, plotted_data.keys(), rotation = 90)\n",
    "    pl.title('Average Word Count')\n",
    "    pl.tight_layout()\n",
    "    pl.show()\n",
    "\n",
    "    \n",
    "def steveli_veveyzhan_profanity_meter(chat_number):\n",
    "    chats = sorted_chats[chat_number]\n",
    "    swears = {\"fuk\": 0, \"fuck\": 0, \"fucking\": 0, \"stfu\":0, \"fucker\":0, \"fk\": 0, \"shit\":0, \"sht\":0, \"bitch\":0, \"hell\":0, \"damn\":0}\n",
    "    people = {}\n",
    "    barWidth = 0.25\n",
    "    \n",
    "    messages = chats[2]\n",
    "    i = 0\n",
    "    for message in messages: \n",
    "        try:\n",
    "            message_content = message[\"content\"]\n",
    "            time = message[\"timestamp_ms\"]\n",
    "            \n",
    "            name = message[\"sender_name\"]\n",
    "            words = message_content.split(); \n",
    "            for word in words: \n",
    "                if word in swears:\n",
    "                    people[name] = people.get(name,{\"fuk\": 0, \"fuck\": 0, \"fucking\": 0, \"stfu\":0, \"fucker\":0, \"fk\": 0, \"shit\":0, \"sht\":0, \"bitch\":0, \"hell\":0, \"damn\":0} )\n",
    "                    people[name][word] = people[name][word] + 1\n",
    "                    #swears[word] = swears[word] + 1            \n",
    "        except KeyError:\n",
    "            i = i + 1\n",
    "            \n",
    "    pl.xlabel('Swears')\n",
    "    pl.ylabel('Number of Swears')\n",
    "    colors = ['b', 'c', 'm', 'y', 'k', 'w', 'g']\n",
    "    steve = np.arange(len(people[\"Steve Li\"]))\n",
    "    vv = [x + barWidth for x in steve]\n",
    "\n",
    "    pl.bar(steve, list(people[\"Steve Li\"].values()), color = 'r', width = barWidth, bottom = 0.3, label = \"Steve\")\n",
    "    pl.bar(vv, list(people[\"Vevey Zhan\"].values()), color = 'b', width = barWidth, bottom = 0.3, label = \"Vevey\")\n",
    "   \n",
    "    pl.xticks(steve, swears.keys(), rotation = 90)\n",
    "    pl.title('Profanity Meter')\n",
    "    pl.tight_layout()\n",
    "    pl.legend()\n",
    "    pl.show()\n",
    "    \n",
    "def day_of_the_week(chat_number):\n",
    "    chats = sorted_chats[chat_number]\n",
    "    messages = chats[2]\n",
    "    i = 0\n",
    "    days = {0:0, 1:0, 2:0, 3:0, 4:0, 5:0, 6:0}\n",
    "    weekdays = [\"monday\", \"tuesday\", \"wednesday\", \"thursday\", \"friday\", \"saturday\", \"sunday\"]\n",
    "    for message in messages: \n",
    "        try:\n",
    "            \n",
    "            message_time = message[\"timestamp_ms\"]\n",
    "            d = datetime.datetime.fromtimestamp(message_time/1000.0)\n",
    "            days[d.weekday()] += 1\n",
    "            \n",
    "        except KeyError:\n",
    "            i = i + 1\n",
    "        \n",
    "    X = np.arange(len(days))\n",
    "    pl.bar(X, list(days.values()), align='center', width=0.5, color = 'b', bottom = 0.3)\n",
    "    pl.xticks(X, weekdays, rotation = 90)\n",
    "    pl.title('Word Count per Day')\n",
    "    pl.xlabel('day of the week')\n",
    "    pl.ylabel('number of messages')\n",
    "    pl.tight_layout()\n",
    "    pl.show()\n",
    "    \n",
    "            \n",
    "    \n"
   ]
  },
  {
   "cell_type": "code",
   "execution_count": 15,
   "metadata": {},
   "outputs": [
    {
     "data": {
      "image/png": "[encoded data removed]",
      "text/plain": [
       "<Figure size 432x288 with 1 Axes>"
      ]
     },
     "metadata": {
      "needs_background": "light"
     },
     "output_type": "display_data"
    },
    {
     "data": {
      "image/png": "[encoded data removed]",
      "text/plain": [
       "<Figure size 432x288 with 1 Axes>"
      ]
     },
     "metadata": {
      "needs_background": "light"
     },
     "output_type": "display_data"
    }
   ],
   "source": [
    "steveli_veveyzhan_profanity_meter(1)\n",
    "day_of_the_week(0)\n"
   ]
  },
  {
   "cell_type": "code",
   "execution_count": null,
   "metadata": {},
   "outputs": [],
   "source": []
  },
  {
   "cell_type": "code",
   "execution_count": null,
   "metadata": {},
   "outputs": [],
   "source": []
  },
  {
   "cell_type": "code",
   "execution_count": null,
   "metadata": {},
   "outputs": [],
   "source": []
  }
 ],
 "metadata": {
  "kernelspec": {
   "display_name": "Python 2",
   "language": "python",
   "name": "python2"
  },
  "language_info": {
   "codemirror_mode": {
    "name": "ipython",
    "version": 2
   },
   "file_extension": ".py",
   "mimetype": "text/x-python",
   "name": "python",
   "nbconvert_exporter": "python",
   "pygments_lexer": "ipython2",
   "version": "2.7.16"
  }
 },
 "nbformat": 4,
 "nbformat_minor": 2
}
